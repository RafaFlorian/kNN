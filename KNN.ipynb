{
 "cells": [
  {
   "cell_type": "markdown",
   "id": "2c60ae3f",
   "metadata": {},
   "source": [
    "# Real Estate Price Prediction Dataset Analysis"
   ]
  },
  {
   "cell_type": "markdown",
   "id": "c3a4ffab",
   "metadata": {},
   "source": [
    "### Analiza si predictia folosind metoda kNN (k Nearst Neighbours)\n",
    "\n",
    "### Etape:\n",
    "#### 1.Pre-procesarea datelor\n",
    "#### 2.Interpretarea datelor\n",
    "#### 3.Construirea regresiei folosid kNN"
   ]
  },
  {
   "cell_type": "code",
   "execution_count": 2,
   "id": "16cb8cf8",
   "metadata": {},
   "outputs": [],
   "source": [
    "#---Importarea librariilor utile---\n",
    "import numpy as np\n",
    "import pandas as pd\n",
    "import matplotlib.pyplot as plt\n",
    "import seaborn as sns\n",
    "from sklearn.model_selection import train_test_split\n",
    "from sklearn import datasets, linear_model, metrics\n",
    "from sklearn.metrics import r2_score\n",
    "%matplotlib inline"
   ]
  },
  {
   "cell_type": "code",
   "execution_count": 3,
   "id": "abae093a",
   "metadata": {},
   "outputs": [
    {
     "data": {
      "text/html": [
       "<div>\n",
       "<style scoped>\n",
       "    .dataframe tbody tr th:only-of-type {\n",
       "        vertical-align: middle;\n",
       "    }\n",
       "\n",
       "    .dataframe tbody tr th {\n",
       "        vertical-align: top;\n",
       "    }\n",
       "\n",
       "    .dataframe thead th {\n",
       "        text-align: right;\n",
       "    }\n",
       "</style>\n",
       "<table border=\"1\" class=\"dataframe\">\n",
       "  <thead>\n",
       "    <tr style=\"text-align: right;\">\n",
       "      <th></th>\n",
       "      <th>No</th>\n",
       "      <th>X1 transaction date</th>\n",
       "      <th>X2 house age</th>\n",
       "      <th>X3 distance to the nearest MRT station</th>\n",
       "      <th>X4 number of convenience stores</th>\n",
       "      <th>X5 latitude</th>\n",
       "      <th>X6 longitude</th>\n",
       "      <th>Y house price of unit area</th>\n",
       "    </tr>\n",
       "  </thead>\n",
       "  <tbody>\n",
       "    <tr>\n",
       "      <th>0</th>\n",
       "      <td>1</td>\n",
       "      <td>2012.917</td>\n",
       "      <td>32.0</td>\n",
       "      <td>84.87882</td>\n",
       "      <td>10</td>\n",
       "      <td>24.98298</td>\n",
       "      <td>121.54024</td>\n",
       "      <td>37.9</td>\n",
       "    </tr>\n",
       "    <tr>\n",
       "      <th>1</th>\n",
       "      <td>2</td>\n",
       "      <td>2012.917</td>\n",
       "      <td>19.5</td>\n",
       "      <td>306.59470</td>\n",
       "      <td>9</td>\n",
       "      <td>24.98034</td>\n",
       "      <td>121.53951</td>\n",
       "      <td>42.2</td>\n",
       "    </tr>\n",
       "    <tr>\n",
       "      <th>2</th>\n",
       "      <td>3</td>\n",
       "      <td>2013.583</td>\n",
       "      <td>13.3</td>\n",
       "      <td>561.98450</td>\n",
       "      <td>5</td>\n",
       "      <td>24.98746</td>\n",
       "      <td>121.54391</td>\n",
       "      <td>47.3</td>\n",
       "    </tr>\n",
       "    <tr>\n",
       "      <th>3</th>\n",
       "      <td>4</td>\n",
       "      <td>2013.500</td>\n",
       "      <td>13.3</td>\n",
       "      <td>561.98450</td>\n",
       "      <td>5</td>\n",
       "      <td>24.98746</td>\n",
       "      <td>121.54391</td>\n",
       "      <td>54.8</td>\n",
       "    </tr>\n",
       "    <tr>\n",
       "      <th>4</th>\n",
       "      <td>5</td>\n",
       "      <td>2012.833</td>\n",
       "      <td>5.0</td>\n",
       "      <td>390.56840</td>\n",
       "      <td>5</td>\n",
       "      <td>24.97937</td>\n",
       "      <td>121.54245</td>\n",
       "      <td>43.1</td>\n",
       "    </tr>\n",
       "  </tbody>\n",
       "</table>\n",
       "</div>"
      ],
      "text/plain": [
       "   No  X1 transaction date  X2 house age  \\\n",
       "0   1             2012.917          32.0   \n",
       "1   2             2012.917          19.5   \n",
       "2   3             2013.583          13.3   \n",
       "3   4             2013.500          13.3   \n",
       "4   5             2012.833           5.0   \n",
       "\n",
       "   X3 distance to the nearest MRT station  X4 number of convenience stores  \\\n",
       "0                                84.87882                               10   \n",
       "1                               306.59470                                9   \n",
       "2                               561.98450                                5   \n",
       "3                               561.98450                                5   \n",
       "4                               390.56840                                5   \n",
       "\n",
       "   X5 latitude  X6 longitude  Y house price of unit area  \n",
       "0     24.98298     121.54024                        37.9  \n",
       "1     24.98034     121.53951                        42.2  \n",
       "2     24.98746     121.54391                        47.3  \n",
       "3     24.98746     121.54391                        54.8  \n",
       "4     24.97937     121.54245                        43.1  "
      ]
     },
     "execution_count": 3,
     "metadata": {},
     "output_type": "execute_result"
    }
   ],
   "source": [
    "#---Citirea setului de date ---\n",
    "data = pd.read_csv('Real Estate.csv')\n",
    "data.head()"
   ]
  },
  {
   "cell_type": "markdown",
   "id": "3c486f1b",
   "metadata": {},
   "source": [
    "### Etapa1. Pre-procesarea datelor"
   ]
  },
  {
   "cell_type": "code",
   "execution_count": 4,
   "id": "c3cf8990",
   "metadata": {},
   "outputs": [
    {
     "data": {
      "text/html": [
       "<div>\n",
       "<style scoped>\n",
       "    .dataframe tbody tr th:only-of-type {\n",
       "        vertical-align: middle;\n",
       "    }\n",
       "\n",
       "    .dataframe tbody tr th {\n",
       "        vertical-align: top;\n",
       "    }\n",
       "\n",
       "    .dataframe thead th {\n",
       "        text-align: right;\n",
       "    }\n",
       "</style>\n",
       "<table border=\"1\" class=\"dataframe\">\n",
       "  <thead>\n",
       "    <tr style=\"text-align: right;\">\n",
       "      <th></th>\n",
       "      <th>X2 house age</th>\n",
       "      <th>X3 distance to the nearest MRT station</th>\n",
       "      <th>X4 number of convenience stores</th>\n",
       "      <th>X5 latitude</th>\n",
       "      <th>X6 longitude</th>\n",
       "      <th>Y house price of unit area</th>\n",
       "    </tr>\n",
       "  </thead>\n",
       "  <tbody>\n",
       "    <tr>\n",
       "      <th>0</th>\n",
       "      <td>32.0</td>\n",
       "      <td>84.87882</td>\n",
       "      <td>10</td>\n",
       "      <td>24.98298</td>\n",
       "      <td>121.54024</td>\n",
       "      <td>37.9</td>\n",
       "    </tr>\n",
       "    <tr>\n",
       "      <th>1</th>\n",
       "      <td>19.5</td>\n",
       "      <td>306.59470</td>\n",
       "      <td>9</td>\n",
       "      <td>24.98034</td>\n",
       "      <td>121.53951</td>\n",
       "      <td>42.2</td>\n",
       "    </tr>\n",
       "    <tr>\n",
       "      <th>2</th>\n",
       "      <td>13.3</td>\n",
       "      <td>561.98450</td>\n",
       "      <td>5</td>\n",
       "      <td>24.98746</td>\n",
       "      <td>121.54391</td>\n",
       "      <td>47.3</td>\n",
       "    </tr>\n",
       "  </tbody>\n",
       "</table>\n",
       "</div>"
      ],
      "text/plain": [
       "   X2 house age  X3 distance to the nearest MRT station  \\\n",
       "0          32.0                                84.87882   \n",
       "1          19.5                               306.59470   \n",
       "2          13.3                               561.98450   \n",
       "\n",
       "   X4 number of convenience stores  X5 latitude  X6 longitude  \\\n",
       "0                               10     24.98298     121.54024   \n",
       "1                                9     24.98034     121.53951   \n",
       "2                                5     24.98746     121.54391   \n",
       "\n",
       "   Y house price of unit area  \n",
       "0                        37.9  \n",
       "1                        42.2  \n",
       "2                        47.3  "
      ]
     },
     "execution_count": 4,
     "metadata": {},
     "output_type": "execute_result"
    }
   ],
   "source": [
    "#---Stergerea variabilelor independente nesemnificative---\n",
    "#---Coloana 'No' si 'Transaction date' nu au sens in contextul analizei\n",
    "\n",
    "df = data.copy()\n",
    "df = df.drop(['No'], axis = 1)\n",
    "df = df.drop(['X1 transaction date'], axis = 1)\n",
    "df.head(3)"
   ]
  },
  {
   "cell_type": "code",
   "execution_count": 5,
   "id": "4295c91b",
   "metadata": {},
   "outputs": [
    {
     "name": "stdout",
     "output_type": "stream",
     "text": [
      "<class 'pandas.core.frame.DataFrame'>\n",
      "RangeIndex: 414 entries, 0 to 413\n",
      "Data columns (total 6 columns):\n",
      " #   Column                                  Non-Null Count  Dtype  \n",
      "---  ------                                  --------------  -----  \n",
      " 0   X2 house age                            414 non-null    float64\n",
      " 1   X3 distance to the nearest MRT station  414 non-null    float64\n",
      " 2   X4 number of convenience stores         414 non-null    int64  \n",
      " 3   X5 latitude                             414 non-null    float64\n",
      " 4   X6 longitude                            414 non-null    float64\n",
      " 5   Y house price of unit area              414 non-null    float64\n",
      "dtypes: float64(5), int64(1)\n",
      "memory usage: 19.5 KB\n"
     ]
    }
   ],
   "source": [
    "#---Structura variabilelor---\n",
    "df.info()\n",
    "#---Observam tipul variabilelor si faptul ca nu exista valori null (414/414 non-null)"
   ]
  },
  {
   "cell_type": "code",
   "execution_count": 6,
   "id": "21f0b80a",
   "metadata": {},
   "outputs": [
    {
     "data": {
      "text/html": [
       "<div>\n",
       "<style scoped>\n",
       "    .dataframe tbody tr th:only-of-type {\n",
       "        vertical-align: middle;\n",
       "    }\n",
       "\n",
       "    .dataframe tbody tr th {\n",
       "        vertical-align: top;\n",
       "    }\n",
       "\n",
       "    .dataframe thead th {\n",
       "        text-align: right;\n",
       "    }\n",
       "</style>\n",
       "<table border=\"1\" class=\"dataframe\">\n",
       "  <thead>\n",
       "    <tr style=\"text-align: right;\">\n",
       "      <th></th>\n",
       "      <th>X2 house age</th>\n",
       "      <th>X3 distance to the nearest MRT station</th>\n",
       "      <th>X4 number of convenience stores</th>\n",
       "      <th>X5 latitude</th>\n",
       "      <th>X6 longitude</th>\n",
       "      <th>Y house price of unit area</th>\n",
       "    </tr>\n",
       "  </thead>\n",
       "  <tbody>\n",
       "    <tr>\n",
       "      <th>count</th>\n",
       "      <td>414.000000</td>\n",
       "      <td>414.000000</td>\n",
       "      <td>414.000000</td>\n",
       "      <td>414.000000</td>\n",
       "      <td>414.000000</td>\n",
       "      <td>414.000000</td>\n",
       "    </tr>\n",
       "    <tr>\n",
       "      <th>mean</th>\n",
       "      <td>17.712560</td>\n",
       "      <td>1083.885689</td>\n",
       "      <td>4.094203</td>\n",
       "      <td>24.969030</td>\n",
       "      <td>121.533361</td>\n",
       "      <td>37.980193</td>\n",
       "    </tr>\n",
       "    <tr>\n",
       "      <th>std</th>\n",
       "      <td>11.392485</td>\n",
       "      <td>1262.109595</td>\n",
       "      <td>2.945562</td>\n",
       "      <td>0.012410</td>\n",
       "      <td>0.015347</td>\n",
       "      <td>13.606488</td>\n",
       "    </tr>\n",
       "    <tr>\n",
       "      <th>min</th>\n",
       "      <td>0.000000</td>\n",
       "      <td>23.382840</td>\n",
       "      <td>0.000000</td>\n",
       "      <td>24.932070</td>\n",
       "      <td>121.473530</td>\n",
       "      <td>7.600000</td>\n",
       "    </tr>\n",
       "    <tr>\n",
       "      <th>25%</th>\n",
       "      <td>9.025000</td>\n",
       "      <td>289.324800</td>\n",
       "      <td>1.000000</td>\n",
       "      <td>24.963000</td>\n",
       "      <td>121.528085</td>\n",
       "      <td>27.700000</td>\n",
       "    </tr>\n",
       "    <tr>\n",
       "      <th>50%</th>\n",
       "      <td>16.100000</td>\n",
       "      <td>492.231300</td>\n",
       "      <td>4.000000</td>\n",
       "      <td>24.971100</td>\n",
       "      <td>121.538630</td>\n",
       "      <td>38.450000</td>\n",
       "    </tr>\n",
       "    <tr>\n",
       "      <th>75%</th>\n",
       "      <td>28.150000</td>\n",
       "      <td>1454.279000</td>\n",
       "      <td>6.000000</td>\n",
       "      <td>24.977455</td>\n",
       "      <td>121.543305</td>\n",
       "      <td>46.600000</td>\n",
       "    </tr>\n",
       "    <tr>\n",
       "      <th>max</th>\n",
       "      <td>43.800000</td>\n",
       "      <td>6488.021000</td>\n",
       "      <td>10.000000</td>\n",
       "      <td>25.014590</td>\n",
       "      <td>121.566270</td>\n",
       "      <td>117.500000</td>\n",
       "    </tr>\n",
       "  </tbody>\n",
       "</table>\n",
       "</div>"
      ],
      "text/plain": [
       "       X2 house age  X3 distance to the nearest MRT station  \\\n",
       "count    414.000000                              414.000000   \n",
       "mean      17.712560                             1083.885689   \n",
       "std       11.392485                             1262.109595   \n",
       "min        0.000000                               23.382840   \n",
       "25%        9.025000                              289.324800   \n",
       "50%       16.100000                              492.231300   \n",
       "75%       28.150000                             1454.279000   \n",
       "max       43.800000                             6488.021000   \n",
       "\n",
       "       X4 number of convenience stores  X5 latitude  X6 longitude  \\\n",
       "count                       414.000000   414.000000    414.000000   \n",
       "mean                          4.094203    24.969030    121.533361   \n",
       "std                           2.945562     0.012410      0.015347   \n",
       "min                           0.000000    24.932070    121.473530   \n",
       "25%                           1.000000    24.963000    121.528085   \n",
       "50%                           4.000000    24.971100    121.538630   \n",
       "75%                           6.000000    24.977455    121.543305   \n",
       "max                          10.000000    25.014590    121.566270   \n",
       "\n",
       "       Y house price of unit area  \n",
       "count                  414.000000  \n",
       "mean                    37.980193  \n",
       "std                     13.606488  \n",
       "min                      7.600000  \n",
       "25%                     27.700000  \n",
       "50%                     38.450000  \n",
       "75%                     46.600000  \n",
       "max                    117.500000  "
      ]
     },
     "execution_count": 6,
     "metadata": {},
     "output_type": "execute_result"
    }
   ],
   "source": [
    "#---Summary stats---\n",
    "df.describe()"
   ]
  },
  {
   "cell_type": "code",
   "execution_count": 7,
   "id": "b2bfeaec",
   "metadata": {},
   "outputs": [
    {
     "data": {
      "text/plain": [
       "array([[<AxesSubplot:title={'center':'X2 house age'}>,\n",
       "        <AxesSubplot:title={'center':'X3 distance to the nearest MRT station'}>],\n",
       "       [<AxesSubplot:title={'center':'X4 number of convenience stores'}>,\n",
       "        <AxesSubplot:title={'center':'X5 latitude'}>],\n",
       "       [<AxesSubplot:title={'center':'X6 longitude'}>,\n",
       "        <AxesSubplot:title={'center':'Y house price of unit area'}>]],\n",
       "      dtype=object)"
      ]
     },
     "execution_count": 7,
     "metadata": {},
     "output_type": "execute_result"
    },
    {
     "data": {
      "image/png": "[encoded data removed]",
      "text/plain": [
       "<Figure size 720x720 with 6 Axes>"
      ]
     },
     "metadata": {
      "needs_background": "light"
     },
     "output_type": "display_data"
    }
   ],
   "source": [
    "#---Distributia variabilelor\n",
    "df.hist(figsize=(10,10))"
   ]
  },
  {
   "cell_type": "code",
   "execution_count": 8,
   "id": "1746b73b",
   "metadata": {},
   "outputs": [
    {
     "data": {
      "text/plain": [
       "<AxesSubplot:xlabel='X2 house age', ylabel='Y house price of unit area'>"
      ]
     },
     "execution_count": 8,
     "metadata": {},
     "output_type": "execute_result"
    },
    {
     "data": {
      "image/png": "[encoded data removed]",
      "text/plain": [
       "<Figure size 432x288 with 1 Axes>"
      ]
     },
     "metadata": {
      "needs_background": "light"
     },
     "output_type": "display_data"
    }
   ],
   "source": [
    "#---Relatia liniara dintre pret si anul construirii---\n",
    "sns.regplot(x = df['X2 house age'], y = df['Y house price of unit area'])\n"
   ]
  },
  {
   "cell_type": "code",
   "execution_count": 9,
   "id": "c2f630cf",
   "metadata": {},
   "outputs": [
    {
     "data": {
      "text/plain": [
       "<AxesSubplot:xlabel='X3 distance to the nearest MRT station', ylabel='Y house price of unit area'>"
      ]
     },
     "execution_count": 9,
     "metadata": {},
     "output_type": "execute_result"
    },
    {
     "data": {
      "image/png": "[encoded data removed]",
      "text/plain": [
       "<Figure size 432x288 with 1 Axes>"
      ]
     },
     "metadata": {
      "needs_background": "light"
     },
     "output_type": "display_data"
    }
   ],
   "source": [
    "#---Relatia liniara dintre pret si distanta catre cea mai apropiata statie de metrou---\n",
    "sns.regplot(x = df['X3 distance to the nearest MRT station'], y = df['Y house price of unit area'])"
   ]
  },
  {
   "cell_type": "code",
   "execution_count": 10,
   "id": "7ea7c578",
   "metadata": {},
   "outputs": [
    {
     "data": {
      "image/png": "[encoded data removed]",
      "text/plain": [
       "<Figure size 936x360 with 6 Axes>"
      ]
     },
     "metadata": {
      "needs_background": "light"
     },
     "output_type": "display_data"
    }
   ],
   "source": [
    "#---Valorile aberante---\n",
    "plt.figure(figsize=(13,5))\n",
    "\n",
    "for feat, grd in zip(df, range(231,237)):\n",
    "    plt.subplot(grd)\n",
    "    sns.boxplot(y=df[feat], color='blue')\n",
    "    plt.ylabel('Value')\n",
    "    plt.title('Boxplot\\n%s'%feat)\n",
    "plt.tight_layout()"
   ]
  },
  {
   "cell_type": "code",
   "execution_count": 11,
   "id": "2b71ab26",
   "metadata": {},
   "outputs": [
    {
     "data": {
      "text/plain": [
       "X2 house age                             -0.210567\n",
       "X3 distance to the nearest MRT station   -0.673613\n",
       "X4 number of convenience stores           0.571005\n",
       "X5 latitude                               0.546307\n",
       "X6 longitude                              0.523287\n",
       "Y house price of unit area                1.000000\n",
       "Name: Y house price of unit area, dtype: float64"
      ]
     },
     "execution_count": 11,
     "metadata": {},
     "output_type": "execute_result"
    }
   ],
   "source": [
    "#---Corelatia dintre variabilele independende---\n",
    "correlation_matrix = df.corr()\n",
    "correlation_matrix[\"Y house price of unit area\"]"
   ]
  },
  {
   "cell_type": "code",
   "execution_count": 12,
   "id": "af035957",
   "metadata": {},
   "outputs": [
    {
     "name": "stdout",
     "output_type": "stream",
     "text": [
      "(331, 5) (83, 5)\n",
      "(331,) (83,)\n"
     ]
    }
   ],
   "source": [
    "#---Splitarea setului de date train-test---\n",
    "X2 = df.drop(['Y house price of unit area'], axis = 1)\n",
    "y2 = df['Y house price of unit area']\n",
    "from sklearn.model_selection import train_test_split\n",
    "\n",
    "X_train_2, X_test_2, y_train_2, y_test_2 = train_test_split(X2, y2, test_size=0.2, random_state=1)\n",
    "print(X_train_2.shape, X_test_2.shape)\n",
    "print(y_train_2.shape, y_test_2.shape)"
   ]
  },
  {
   "cell_type": "code",
   "execution_count": 13,
   "id": "7e67425d",
   "metadata": {},
   "outputs": [],
   "source": [
    "#---Scalarea datelor---\n",
    "\n",
    "#---Metoda 1: MinMax Scaller---\n",
    "from sklearn.preprocessing import MinMaxScaler\n",
    "mms = MinMaxScaler()\n",
    "X_train_norm_2 = mms.fit_transform(X_train_2)\n",
    "X_test_norm_2 = mms.transform(X_test_2)\n",
    "\n",
    "#---Metoda 2: Standard Scaller---\n",
    "from sklearn.preprocessing import StandardScaler\n",
    "scaler = StandardScaler()\n",
    "scaler.fit(X_train_2)\n",
    "X_train_std_2 = scaler.transform(X_train_2)\n",
    "X_test_std_2 = scaler.transform(X_test_2)"
   ]
  },
  {
   "cell_type": "code",
   "execution_count": 14,
   "id": "bcb5359c",
   "metadata": {},
   "outputs": [
    {
     "name": "stdout",
     "output_type": "stream",
     "text": [
      "(331, 5)\n",
      "(83, 5)\n"
     ]
    },
    {
     "data": {
      "image/png": "[encoded data removed]",
      "text/plain": [
       "<Figure size 432x288 with 1 Axes>"
      ]
     },
     "metadata": {
      "needs_background": "light"
     },
     "output_type": "display_data"
    }
   ],
   "source": [
    "#---Compararea metodelor folosite in scalare---\n",
    "xx = np.arange(len(X_train_std_2))\n",
    "yy1 = X_train_norm_2[:,0]\n",
    "yy2 = X_train_std_2[:,0]\n",
    "plt.scatter(xx,yy1,color='b')\n",
    "plt.scatter(xx,yy2,color='r')\n",
    "\n",
    "print(X_train_std_2.shape)\n",
    "print(X_test_std_2.shape)"
   ]
  },
  {
   "cell_type": "code",
   "execution_count": 15,
   "id": "bf9199fc",
   "metadata": {},
   "outputs": [
    {
     "name": "stdout",
     "output_type": "stream",
     "text": [
      "                                     OLS Regression Results                                    \n",
      "===============================================================================================\n",
      "Dep. Variable:     Y house price of unit area   R-squared (uncentered):                   0.940\n",
      "Model:                                    OLS   Adj. R-squared (uncentered):              0.939\n",
      "Method:                         Least Squares   F-statistic:                              1023.\n",
      "Date:                        Tue, 19 Apr 2022   Prob (F-statistic):                   7.79e-197\n",
      "Time:                                11:11:05   Log-Likelihood:                         -1233.8\n",
      "No. Observations:                         331   AIC:                                      2478.\n",
      "Df Residuals:                             326   BIC:                                      2497.\n",
      "Df Model:                                   5                                                  \n",
      "Covariance Type:                    nonrobust                                                  \n",
      "==============================================================================\n",
      "                 coef    std err          t      P>|t|      [0.025      0.975]\n",
      "------------------------------------------------------------------------------\n",
      "x1            -8.5106      2.068     -4.115      0.000     -12.579      -4.442\n",
      "x2             3.7965      2.902      1.308      0.192      -1.912       9.505\n",
      "x3            15.6047      2.342      6.662      0.000      10.997      20.213\n",
      "x4            33.1420      3.961      8.368      0.000      25.350      40.934\n",
      "x5            30.2255      2.771     10.907      0.000      24.774      35.677\n",
      "==============================================================================\n",
      "Omnibus:                      188.365   Durbin-Watson:                   1.943\n",
      "Prob(Omnibus):                  0.000   Jarque-Bera (JB):             2662.085\n",
      "Skew:                           2.033   Prob(JB):                         0.00\n",
      "Kurtosis:                      16.285   Cond. No.                         8.39\n",
      "==============================================================================\n",
      "\n",
      "Notes:\n",
      "[1] R² is computed without centering (uncentered) since the model does not contain a constant.\n",
      "[2] Standard Errors assume that the covariance matrix of the errors is correctly specified.\n"
     ]
    }
   ],
   "source": [
    "#---Contruirea unui model de regresie liniara,pentru setul de train, folosind OLS---\n",
    "#---Pentru a intelege mai bine datele---\n",
    "\n",
    "import statsmodels.api as sm\n",
    "model_ols = sm.OLS(y_train_2, X_train_norm_2)\n",
    "fitted = model_ols.fit()\n",
    "print(fitted.summary())"
   ]
  },
  {
   "cell_type": "code",
   "execution_count": 16,
   "id": "ad770549",
   "metadata": {},
   "outputs": [
    {
     "data": {
      "image/png": "[encoded data removed]",
      "text/plain": [
       "<Figure size 1152x288 with 2 Axes>"
      ]
     },
     "metadata": {
      "needs_background": "light"
     },
     "output_type": "display_data"
    }
   ],
   "source": [
    "#---Observarea distributiei---\n",
    "from scipy.stats import shapiro\n",
    "fig, ax = plt.subplots(figsize=(16,4), ncols=2)\n",
    "ax[0] = sns.scatterplot(x=y_train_2, y=fitted.resid, ax=ax[0])\n",
    "ax[1] = sns.histplot(fitted.resid, ax=ax[1])"
   ]
  },
  {
   "cell_type": "markdown",
   "id": "0ef9b2ff",
   "metadata": {},
   "source": [
    "### Contruirea modelului de regresie kNN"
   ]
  },
  {
   "cell_type": "code",
   "execution_count": 17,
   "id": "9e965da7",
   "metadata": {},
   "outputs": [
    {
     "data": {
      "text/plain": [
       "{'n_neighbors': 9}"
      ]
     },
     "execution_count": 17,
     "metadata": {},
     "output_type": "execute_result"
    }
   ],
   "source": [
    "#---Cautarea optima pentru valoarea lui k---\n",
    "from sklearn.model_selection import GridSearchCV\n",
    "from sklearn.neighbors import KNeighborsRegressor\n",
    "\n",
    "parameters = {\"n_neighbors\": range(1, 50)}\n",
    "gridsearch = GridSearchCV(KNeighborsRegressor(), parameters)\n",
    "gridsearch.fit(X_train_norm_2, y_train_2,)\n",
    "\n",
    "gridsearch.best_params_"
   ]
  },
  {
   "cell_type": "code",
   "execution_count": 18,
   "id": "9fa68cbd",
   "metadata": {},
   "outputs": [
    {
     "name": "stdout",
     "output_type": "stream",
     "text": [
      "k=1, train_accuracy=98.40%, test_accuracy=49.11%\n",
      "k=3, train_accuracy=82.85%, test_accuracy=62.70%\n",
      "k=5, train_accuracy=76.51%, test_accuracy=65.10%\n",
      "k=7, train_accuracy=71.66%, test_accuracy=62.32%\n",
      "k=9, train_accuracy=69.54%, test_accuracy=69.09%\n",
      "k=11, train_accuracy=67.99%, test_accuracy=69.85%\n",
      "k=13, train_accuracy=66.20%, test_accuracy=69.96%\n",
      "k=15, train_accuracy=65.36%, test_accuracy=69.60%\n",
      "k=17, train_accuracy=65.20%, test_accuracy=70.20%\n",
      "k=19, train_accuracy=64.80%, test_accuracy=71.18%\n",
      "k=21, train_accuracy=63.86%, test_accuracy=71.19%\n",
      "k=23, train_accuracy=63.58%, test_accuracy=71.38%\n",
      "k=25, train_accuracy=63.22%, test_accuracy=71.79%\n",
      "k=27, train_accuracy=62.85%, test_accuracy=72.35%\n",
      "k=29, train_accuracy=62.48%, test_accuracy=72.01%\n",
      "k=31, train_accuracy=62.12%, test_accuracy=72.90%\n",
      "k=33, train_accuracy=61.50%, test_accuracy=72.89%\n",
      "k=35, train_accuracy=60.87%, test_accuracy=72.55%\n",
      "k=37, train_accuracy=60.07%, test_accuracy=72.35%\n",
      "k=39, train_accuracy=59.36%, test_accuracy=72.40%\n",
      "k=41, train_accuracy=58.69%, test_accuracy=72.08%\n",
      "k=43, train_accuracy=58.55%, test_accuracy=71.97%\n",
      "k=45, train_accuracy=58.37%, test_accuracy=71.62%\n",
      "k=47, train_accuracy=57.75%, test_accuracy=71.01%\n",
      "k=49, train_accuracy=57.39%, test_accuracy=70.98%\n",
      "k=51, train_accuracy=56.88%, test_accuracy=70.70%\n",
      "k=53, train_accuracy=56.47%, test_accuracy=70.25%\n",
      "k=55, train_accuracy=55.86%, test_accuracy=69.36%\n",
      "k=57, train_accuracy=55.68%, test_accuracy=68.75%\n",
      "k=59, train_accuracy=55.55%, test_accuracy=68.15%\n",
      "k=61, train_accuracy=55.17%, test_accuracy=67.86%\n",
      "k=63, train_accuracy=54.86%, test_accuracy=67.46%\n",
      "k=65, train_accuracy=54.53%, test_accuracy=67.10%\n",
      "k=67, train_accuracy=54.08%, test_accuracy=66.75%\n",
      "k=69, train_accuracy=53.53%, test_accuracy=65.73%\n",
      "k=71, train_accuracy=53.39%, test_accuracy=65.16%\n",
      "k=73, train_accuracy=53.19%, test_accuracy=64.66%\n",
      "k=75, train_accuracy=52.88%, test_accuracy=64.02%\n",
      "k=77, train_accuracy=52.50%, test_accuracy=63.95%\n",
      "k=79, train_accuracy=52.12%, test_accuracy=63.65%\n",
      "k=81, train_accuracy=51.97%, test_accuracy=63.30%\n",
      "k=83, train_accuracy=51.55%, test_accuracy=62.97%\n",
      "k=85, train_accuracy=51.30%, test_accuracy=62.69%\n",
      "k=87, train_accuracy=50.99%, test_accuracy=62.33%\n",
      "k=89, train_accuracy=50.87%, test_accuracy=61.77%\n",
      "k=91, train_accuracy=50.61%, test_accuracy=61.14%\n",
      "k=93, train_accuracy=50.34%, test_accuracy=60.82%\n",
      "k=95, train_accuracy=50.41%, test_accuracy=60.73%\n",
      "k=97, train_accuracy=50.34%, test_accuracy=60.54%\n",
      "k=99, train_accuracy=50.09%, test_accuracy=60.09%\n"
     ]
    },
    {
     "data": {
      "text/plain": [
       "[<matplotlib.lines.Line2D at 0x29764b9d130>]"
      ]
     },
     "execution_count": 18,
     "metadata": {},
     "output_type": "execute_result"
    },
    {
     "data": {
      "image/png": "[encoded data removed]",
      "text/plain": [
       "<Figure size 432x288 with 1 Axes>"
      ]
     },
     "metadata": {
      "needs_background": "light"
     },
     "output_type": "display_data"
    }
   ],
   "source": [
    "k_values = np.arange(1,100,2)\n",
    "train_score = []\n",
    "val_score = []\n",
    "\n",
    "for k in k_values:\n",
    "    model1 = KNeighborsRegressor(n_neighbors = k, p = 1)\n",
    "    model1.fit(X_train_norm_2, y_train_2)\n",
    "    \n",
    "    train_score1 = model1.score(X_train_norm_2, y_train_2)\n",
    "    train_score.append(train_score1*100)\n",
    "    \n",
    "    value_score = model1.score(X_test_norm_2, y_test_2)\n",
    "    val_score.append(value_score*100)\n",
    "    \n",
    "    print(\"k=%d, train_accuracy=%.2f%%, test_accuracy=%.2f%%\" % (k, train_score1 * 100, value_score*100))\n",
    "\n",
    "plt.plot(k_values,train_score,'g')\n",
    "plt.plot(k_values,val_score,'r')"
   ]
  },
  {
   "cell_type": "code",
   "execution_count": 25,
   "id": "e97a6f7c",
   "metadata": {},
   "outputs": [
    {
     "data": {
      "text/plain": [
       "KNeighborsRegressor(algorithm='brute', n_neighbors=3)"
      ]
     },
     "execution_count": 25,
     "metadata": {},
     "output_type": "execute_result"
    }
   ],
   "source": [
    "#---Initializarea modelului---\n",
    "\n",
    "#---Hyper Parametrii\n",
    "#---n_neighbors = numarul de vecini pentru care se va calcula distanta\n",
    "#---p = paramentru folosit in calculul distantei minkowski\n",
    "#---p = 1 - distanta manhatan\n",
    "#---p = 2 - distanta euclidiana\n",
    "#---Algoritmul brute force search este foarte eficient deoarece ia in considerare toate posibilitatile populatiei \n",
    "knn = KNeighborsRegressor(n_neighbors = 3, p = 2, algorithm = 'brute')\n",
    "\n",
    "#fitting\n",
    "knn.fit(X_train_norm_2, y_train_2)"
   ]
  },
  {
   "cell_type": "code",
   "execution_count": 24,
   "id": "3aef4ee2",
   "metadata": {},
   "outputs": [
    {
     "data": {
      "text/html": [
       "<div>\n",
       "<style scoped>\n",
       "    .dataframe tbody tr th:only-of-type {\n",
       "        vertical-align: middle;\n",
       "    }\n",
       "\n",
       "    .dataframe tbody tr th {\n",
       "        vertical-align: top;\n",
       "    }\n",
       "\n",
       "    .dataframe thead th {\n",
       "        text-align: right;\n",
       "    }\n",
       "</style>\n",
       "<table border=\"1\" class=\"dataframe\">\n",
       "  <thead>\n",
       "    <tr style=\"text-align: right;\">\n",
       "      <th></th>\n",
       "      <th>Estimated Price</th>\n",
       "      <th>Y house price of unit area</th>\n",
       "    </tr>\n",
       "  </thead>\n",
       "  <tbody>\n",
       "    <tr>\n",
       "      <th>0</th>\n",
       "      <td>26.995</td>\n",
       "      <td>27.3</td>\n",
       "    </tr>\n",
       "    <tr>\n",
       "      <th>1</th>\n",
       "      <td>53.725</td>\n",
       "      <td>54.4</td>\n",
       "    </tr>\n",
       "    <tr>\n",
       "      <th>2</th>\n",
       "      <td>26.100</td>\n",
       "      <td>22.0</td>\n",
       "    </tr>\n",
       "    <tr>\n",
       "      <th>3</th>\n",
       "      <td>20.180</td>\n",
       "      <td>11.6</td>\n",
       "    </tr>\n",
       "    <tr>\n",
       "      <th>4</th>\n",
       "      <td>44.355</td>\n",
       "      <td>45.4</td>\n",
       "    </tr>\n",
       "    <tr>\n",
       "      <th>...</th>\n",
       "      <td>...</td>\n",
       "      <td>...</td>\n",
       "    </tr>\n",
       "    <tr>\n",
       "      <th>78</th>\n",
       "      <td>41.070</td>\n",
       "      <td>33.1</td>\n",
       "    </tr>\n",
       "    <tr>\n",
       "      <th>79</th>\n",
       "      <td>48.260</td>\n",
       "      <td>59.6</td>\n",
       "    </tr>\n",
       "    <tr>\n",
       "      <th>80</th>\n",
       "      <td>50.285</td>\n",
       "      <td>40.8</td>\n",
       "    </tr>\n",
       "    <tr>\n",
       "      <th>81</th>\n",
       "      <td>43.760</td>\n",
       "      <td>52.2</td>\n",
       "    </tr>\n",
       "    <tr>\n",
       "      <th>82</th>\n",
       "      <td>46.440</td>\n",
       "      <td>47.1</td>\n",
       "    </tr>\n",
       "  </tbody>\n",
       "</table>\n",
       "<p>83 rows × 2 columns</p>\n",
       "</div>"
      ],
      "text/plain": [
       "    Estimated Price  Y house price of unit area\n",
       "0            26.995                        27.3\n",
       "1            53.725                        54.4\n",
       "2            26.100                        22.0\n",
       "3            20.180                        11.6\n",
       "4            44.355                        45.4\n",
       "..              ...                         ...\n",
       "78           41.070                        33.1\n",
       "79           48.260                        59.6\n",
       "80           50.285                        40.8\n",
       "81           43.760                        52.2\n",
       "82           46.440                        47.1\n",
       "\n",
       "[83 rows x 2 columns]"
      ]
     },
     "execution_count": 24,
     "metadata": {},
     "output_type": "execute_result"
    }
   ],
   "source": [
    "pred = knn.predict(X_test_norm_2)\n",
    "c = pd.DataFrame(pred, columns=['Estimated Price'])\n",
    "d = pd.DataFrame(y_test_2)\n",
    "d = y_test_2.reset_index(drop=True)\n",
    "ynew = pd.concat([c,d], axis=1)\n",
    "ynew"
   ]
  },
  {
   "cell_type": "code",
   "execution_count": null,
   "id": "118ee123",
   "metadata": {},
   "outputs": [],
   "source": []
  }
 ],
 "metadata": {
  "kernelspec": {
   "display_name": "Python 3",
   "language": "python",
   "name": "python3"
  },
  "language_info": {
   "codemirror_mode": {
    "name": "ipython",
    "version": 3
   },
   "file_extension": ".py",
   "mimetype": "text/x-python",
   "name": "python",
   "nbconvert_exporter": "python",
   "pygments_lexer": "ipython3",
   "version": "3.8.8"
  }
 },
 "nbformat": 4,
 "nbformat_minor": 5
}
